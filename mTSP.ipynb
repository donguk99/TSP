{
  "nbformat": 4,
  "nbformat_minor": 0,
  "metadata": {
    "colab": {
      "provenance": [],
      "toc_visible": true,
      "authorship_tag": "ABX9TyOrer8TsTQ3rCbQKSxGdmQ5",
      "include_colab_link": true
    },
    "kernelspec": {
      "name": "python3",
      "display_name": "Python 3"
    },
    "language_info": {
      "name": "python"
    }
  },
  "cells": [
    {
      "cell_type": "markdown",
      "metadata": {
        "id": "view-in-github",
        "colab_type": "text"
      },
      "source": [
        "<a href=\"https://colab.research.google.com/github/donguk99/TSP/blob/master/mTSP.ipynb\" target=\"_parent\"><img src=\"https://colab.research.google.com/assets/colab-badge.svg\" alt=\"Open In Colab\"/></a>"
      ]
    },
    {
      "cell_type": "markdown",
      "source": [
        "**mTSP(m=1 -> TSP)**"
      ],
      "metadata": {
        "id": "KYcKEEHgnl3l"
      }
    },
    {
      "cell_type": "code",
      "execution_count": null,
      "metadata": {
        "id": "ehMmWA5VeptS"
      },
      "outputs": [],
      "source": [
        "import numpy as np\n",
        "import cvxpy as cp\n",
        "import matplotlib as mpl\n",
        "import matplotlib.pyplot as plt\n",
        "import pandas as pd\n",
        "\n",
        "file = open('/content/ftv33.atsp', 'r')\n",
        "\n",
        "# Read data (.atsp) \n",
        "Name = file.readline().strip().split()[1] # NAME\n",
        "FileType = file.readline().strip().split()[1] # TYPE\n",
        "Comment = file.readline().strip() # COMMENT\n",
        "Dimension = file.readline().strip().split()[1] # DIMENSION\n",
        "EdgeWeightType = file.readline().strip().split()[1] # EDGE_WEIGHT_TYPE\n",
        "EdgeWeightFormat = file.readline().strip().split()[1]\n",
        "file.readline()\n",
        "n=int(Dimension)\n",
        "d=np.zeros((n,n), int)\n",
        "\n",
        "# graph\n",
        "row = []\n",
        "next_row=[]\n",
        "i=0\n",
        "while i<n:\n",
        "  if len(row)==0:\n",
        "    row = next_row[:]\n",
        "    next_row=[]\n",
        "    row += list(map(int, file.readline().strip().split()))\n",
        "  elif len(row)<n:\n",
        "    row += list(map(int, file.readline().strip().split()))\n",
        "  elif len(row)>n:\n",
        "      next_row = row[n:]\n",
        "      row = row[:n]\n",
        "  else:\n",
        "    d[i][:] = np.array(row, int)\n",
        "    row=[]\n",
        "    i+=1"
      ]
    },
    {
      "cell_type": "markdown",
      "source": [],
      "metadata": {
        "id": "8P5-VpasFwQb"
      }
    },
    {
      "cell_type": "code",
      "source": [
        "import numpy as np\n",
        "import cvxpy as cp\n",
        "import matplotlib as mpl\n",
        "import matplotlib.pyplot as plt\n",
        "import pandas as pd\n",
        "# mTSP data example\n",
        "d=[[0,      4.3092, 3.8329, 2.7762, 1.7441, 4.2076, 6.0199],\n",
        "   [4.3092, 0,      1.6596, 3.7435, 5.6408, 2.5764, 7.5691],\n",
        "   [3.8329, 1.6596, 0,      2.3055, 4.7278, 3.8966, 8.4056],\n",
        "   [2.7762, 3.7435, 2.3055, 0,      2.8311, 5.2142, 8.5694],\n",
        "   [1.7441, 5.6408, 4.7278, 2.8311, 0,      5.9246, 7.3483],\n",
        "   [4.2076, 2.5764, 3.8966, 5.2142, 5.9246, 0,      5.1733],\n",
        "   [6.0199, 7.5691, 8.4056, 8.5694, 7.3483, 5.1733, 0    ]]\n",
        "d=np.array(d)\n",
        "n=7\n",
        "m=3 # number of salesman\n"
      ],
      "metadata": {
        "id": "UpHn7csQE-5G"
      },
      "execution_count": null,
      "outputs": []
    },
    {
      "cell_type": "markdown",
      "source": [
        "multi depot인 경우 실행"
      ],
      "metadata": {
        "id": "doGRIXdw_Z2c"
      }
    },
    {
      "cell_type": "code",
      "source": [
        "# 0번째 도시를 더미도시(모든 도시로의 거리 0)로 지정하여 각각 다른 곳에서 출발하도록 설정\n",
        "d = np.pad(d, pad_width=((1,0),(1,0)), mode='constant', constant_values=0)\n",
        "n = n+1"
      ],
      "metadata": {
        "id": "NMM5fKvu_ZPU"
      },
      "execution_count": null,
      "outputs": []
    },
    {
      "cell_type": "markdown",
      "source": [
        "초기 object, constraints 추가"
      ],
      "metadata": {
        "id": "93BdjLgcpwJd"
      }
    },
    {
      "cell_type": "code",
      "source": [
        "# objective, constraints\n",
        "m=2\n",
        "x=cp.Variable((n, n), boolean=True)\n",
        "objective = cp.Minimize(cp.trace(d.T@x))\n",
        "ones= np.ones((n,1))\n",
        "constraints = []\n",
        "constraints += [x[0,:]@ones == m] # m명이 출발노드에서 출발  # m==1이면 TSP problem\n",
        "constraints += [x[:,0]@ones == m] # m명이 출발노드로 도착\n",
        "constraints += [x[1:,:]@ones == 1] # 각 노드는 1명에 의해 한번만 방문 \n",
        "constraints += [x[:,1:].T@ones == 1]\n",
        "constraints += [cp.diag(x) == 0]"
      ],
      "metadata": {
        "id": "1Howw3n2Kd8u"
      },
      "execution_count": null,
      "outputs": []
    },
    {
      "cell_type": "markdown",
      "source": [
        "subtours를 찾아주는 함수"
      ],
      "metadata": {
        "id": "0lMfYwMEp8cs"
      }
    },
    {
      "cell_type": "code",
      "source": [
        "def get_subtours(routes,m)->list:\n",
        "  # covert routes to subtours\n",
        "  # example) [(0,1), (1,2), (2,0), (3,4), (4, 3)] -> [(0,1,2), (3,4)]\n",
        "  # return subtours\n",
        "\n",
        "  subtours = []\n",
        "  r=routes.copy()\n",
        "\n",
        "  # depart\n",
        "  depart = r[:m]\n",
        "  r= r[m:]\n",
        "\n",
        "  # route (salesman)\n",
        "  for route in depart:\n",
        "    route=list(route)\n",
        "    while r and route[-1] != 0:\n",
        "      for i, j in enumerate(r):\n",
        "        if route[-1] == j[0]:\n",
        "            route.append(j[1])\n",
        "            del (r[i])\n",
        "            break\n",
        "    if route[-1] == 0:\n",
        "      route.pop()\n",
        "    subtours.append(route)\n",
        "\n",
        "  # route (left)\n",
        "  while len(r) != 0:\n",
        "    route = list(r.pop())\n",
        "    l = 0\n",
        "    while len(route) > l:\n",
        "      l = len(route)\n",
        "      for i, j in enumerate(r):\n",
        "        if route[-1] == j[0]:\n",
        "          if j[1] != route[0]:\n",
        "            route.append(j[1])\n",
        "            del (r[i])\n",
        "          else:\n",
        "            del (r[i])\n",
        "    subtours.append(route)\n",
        "\n",
        "  return subtours"
      ],
      "metadata": {
        "id": "tEtjeUnOWPlw"
      },
      "execution_count": null,
      "outputs": []
    },
    {
      "cell_type": "markdown",
      "source": [
        "subtour의 개수가 m개가 될 때까지 구속조건을 추가하며 반복"
      ],
      "metadata": {
        "id": "C0AxRXSAF4P5"
      }
    },
    {
      "cell_type": "code",
      "source": [
        "# mTSP subtour elimination\n",
        "iter = 0\n",
        "subtours=[]\n",
        "while len(subtours)!=m:\n",
        "  prob = cp.Problem(objective, constraints)\n",
        "  prob.solve()\n",
        "\n",
        "  # find subtours\n",
        "  routes=[(i,j) for i in range(n) for j in range(n) if x[i,j].value==1]\n",
        "  subtours = get_subtours(routes,m)\n",
        "\n",
        "  \n",
        "  print(f'iteration:{iter}')\n",
        "  print(f'number of constraints:{len(constraints)}')\n",
        "  print(f'number of subtours:{len(subtours)}')\n",
        "  print(f'cost:{prob.value}')\n",
        "  print(f'subtour:{subtours} \\n')\n",
        "\n",
        "  S=[]\n",
        "  for subtour in subtours:\n",
        "    V=[0 for _ in range(n)]\n",
        "    for i in subtour:\n",
        "      V[i] = 1\n",
        "    V=np.array(V)\n",
        "    S.append(V)\n",
        "\n",
        "  # add constraints\n",
        "  for V in S:\n",
        "    if m==1:\n",
        "      constraints += [V@(x@V.T) <= sum(V)-1]\n",
        "    elif V[0] != 1:\n",
        "      constraints += [V@(x@V.T) <= sum(V)-1]\n",
        "  iter+=1\n",
        "\n",
        "# print(f'iteration:{iter}')\n",
        "# print(f'number of constraints:{len(constraints)}')\n",
        "# print(f'number of subtours:{len(subtours)}')\n",
        "# print(f'cost:{prob.value}')\n",
        "# print(f'subtour:{subtours} \\n')\n",
        "      \n"
      ],
      "metadata": {
        "id": "vCD2Mxon6stT",
        "colab": {
          "base_uri": "https://localhost:8080/"
        },
        "outputId": "c8755cad-a624-4726-bc42-c75f86c38429"
      },
      "execution_count": null,
      "outputs": [
        {
          "output_type": "stream",
          "name": "stdout",
          "text": [
            "iteration:0\n",
            "number of constraints:5\n",
            "number of subtours:3\n",
            "cost:10.029699999999998\n",
            "subtour:[[0, 4, 3, 2, 6], [0, 7], [5, 1]] \n",
            "\n",
            "iteration:1\n",
            "number of constraints:6\n",
            "number of subtours:4\n",
            "cost:10.6706\n",
            "subtour:[[0, 6], [0, 7], [5, 1, 4], [3, 2]] \n",
            "\n",
            "iteration:2\n",
            "number of constraints:8\n",
            "number of subtours:2\n",
            "cost:11.061799999999998\n",
            "subtour:[[0, 5, 1, 4, 3, 2, 6], [0, 7]] \n",
            "\n"
          ]
        }
      ]
    },
    {
      "cell_type": "markdown",
      "source": [
        "# 새 섹션"
      ],
      "metadata": {
        "id": "EHpVST6vGsMz"
      }
    },
    {
      "cell_type": "code",
      "source": [],
      "metadata": {
        "id": "yNdCXRusOQNO"
      },
      "execution_count": null,
      "outputs": []
    },
    {
      "cell_type": "markdown",
      "source": [],
      "metadata": {
        "id": "CygSpY0ZUVPZ"
      }
    },
    {
      "cell_type": "code",
      "source": [
        "from google.colab import drive\n",
        "drive.mount('/content/drive')"
      ],
      "metadata": {
        "id": "WZFrwJFIfJT0"
      },
      "execution_count": null,
      "outputs": []
    }
  ]
}