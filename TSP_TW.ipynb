{
  "nbformat": 4,
  "nbformat_minor": 0,
  "metadata": {
    "colab": {
      "provenance": [],
      "toc_visible": true,
      "authorship_tag": "ABX9TyP9EtuxuJLK+ftvAT5Yekex",
      "include_colab_link": true
    },
    "kernelspec": {
      "name": "python3",
      "display_name": "Python 3"
    },
    "language_info": {
      "name": "python"
    }
  },
  "cells": [
    {
      "cell_type": "markdown",
      "metadata": {
        "id": "view-in-github",
        "colab_type": "text"
      },
      "source": [
        "<a href=\"https://colab.research.google.com/github/donguk99/TSP/blob/master/TSP_TW.ipynb\" target=\"_parent\"><img src=\"https://colab.research.google.com/assets/colab-badge.svg\" alt=\"Open In Colab\"/></a>"
      ]
    },
    {
      "cell_type": "markdown",
      "source": [],
      "metadata": {
        "id": "kklhL8EjBHSZ"
      }
    },
    {
      "cell_type": "markdown",
      "source": [
        "# Code start"
      ],
      "metadata": {
        "id": "7qvjMx8qzJSv"
      }
    },
    {
      "cell_type": "code",
      "execution_count": 7,
      "metadata": {
        "id": "rfMhcG_NGwDz"
      },
      "outputs": [],
      "source": [
        "import numpy as np\n",
        "import cvxpy as cp\n",
        "import matplotlib as mpl\n",
        "import matplotlib.pyplot as plt\n",
        "import pandas as pd"
      ]
    },
    {
      "cell_type": "markdown",
      "source": [
        "# Input parameters"
      ],
      "metadata": {
        "id": "od6Cuc8BzUOQ"
      }
    },
    {
      "cell_type": "code",
      "source": [
        "# Graph\n",
        "\"\"\"\n",
        "m: number of salesman\n",
        "d: distance graph\n",
        "s: service time for each node\n",
        "tw: time windows\n",
        "\"\"\"\n",
        "#=======================input======================\n",
        "m=1\n",
        "d = [[0,  2,  3,  4],\n",
        "     [2,  0,  3,  2],\n",
        "     [3,  3,  0,  5],\n",
        "     [4,  2,  5,  0]]\n",
        "d=np.array(d)\n",
        "n=d.shape[0]\n",
        "\n",
        "# service time\n",
        "s = np.zeros((n,1))\n",
        "s[0]=0\n",
        "\n",
        "# time window\n",
        "tw = np.array([[0, 1000],\n",
        "               [5,10],\n",
        "               [0,30],\n",
        "               [3,10]])\n",
        "\n",
        "#======================input end=======================\n",
        "\n",
        "\n",
        "e = tw[:, 0]\n",
        "l = tw[:, 1]\n",
        "M = 100000\n"
      ],
      "metadata": {
        "id": "f1Xmvt08DHXU"
      },
      "execution_count": 8,
      "outputs": []
    },
    {
      "cell_type": "markdown",
      "source": [
        "# Variables"
      ],
      "metadata": {
        "id": "YVhj2cqYz4oH"
      }
    },
    {
      "cell_type": "code",
      "source": [
        "a = cp.Variable((n,1))\n",
        "p = cp.Variable((n,1))\n",
        "x = cp.Variable((n,n), boolean=True)"
      ],
      "metadata": {
        "id": "KhNAwqXrz7d2"
      },
      "execution_count": 9,
      "outputs": []
    },
    {
      "cell_type": "markdown",
      "source": [
        "# Objective, Constraints"
      ],
      "metadata": {
        "id": "SVYIl7mYq_z1"
      }
    },
    {
      "cell_type": "code",
      "source": [
        "#objective\n",
        "objective = cp.Minimize(cp.trace(d.T@x))\n",
        "\n",
        "#constraints\n",
        "ones= np.ones((n,1))\n",
        "constraints = []\n",
        "constraints += [x[0,:]@ones == m] # m명이 출발노드에서 출발  # m==1이면 TSP problem\n",
        "constraints += [x[:,0]@ones == m] # m명이 출발노드로 도착\n",
        "constraints += [x[1:,:]@ones == 1] # 각 노드는 1명에 의해 한번만 방문 \n",
        "constraints += [x[:,1:].T@ones == 1]\n",
        "constraints += [cp.diag(x) == 0]\n",
        "\n",
        "# TW constraints\n",
        "constraints += [p[0] == 0]\n",
        "for i in range(n):\n",
        "  constraints += [e[i] <= p[i]]\n",
        "  constraints += [p[i] <= l[i]]\n",
        "  if i != 0:\n",
        "    constraints += [a[i] <= p[i]-s[i]]\n",
        "\n",
        "for i in range(n):\n",
        "  for j in range(n):\n",
        "    if i != j:\n",
        "      constraints += [a[j] >= p[i]+d[i,j]-(1-x[i,j])*M]\n",
        "      constraints += [a[j] <= p[i]+d[i,j]+(1-x[i,j])*M]"
      ],
      "metadata": {
        "id": "NatEjUwPkWUm"
      },
      "execution_count": 10,
      "outputs": []
    },
    {
      "cell_type": "markdown",
      "source": [
        "# subtour 찾는 함수"
      ],
      "metadata": {
        "id": "Ssekhf_x2pr5"
      }
    },
    {
      "cell_type": "code",
      "source": [
        "def get_subtours(routes,m)->list:\n",
        "  # covert routes to subtours\n",
        "  # example) [(0,1), (1,2), (2,0), (3,4), (4, 3)] -> [(0,1,2), (3,4)]\n",
        "  # return subtours\n",
        "\n",
        "  subtours = []\n",
        "  r=routes.copy()\n",
        "\n",
        "  # depart\n",
        "  depart = r[:m]\n",
        "  r= r[m:]\n",
        "\n",
        "  # route (salesman)\n",
        "  for route in depart:\n",
        "    route=list(route)\n",
        "    while r and route[-1] != 0:\n",
        "      for i, j in enumerate(r):\n",
        "        if route[-1] == j[0]:\n",
        "            route.append(j[1])\n",
        "            del (r[i])\n",
        "            break\n",
        "    if route[-1] == 0:\n",
        "      route.pop()\n",
        "    subtours.append(route)\n",
        "\n",
        "  # route (left)\n",
        "  while len(r) != 0:\n",
        "    route = list(r.pop())\n",
        "    l = 0\n",
        "    while len(route) > l:\n",
        "      l = len(route)\n",
        "      for i, j in enumerate(r):\n",
        "        if route[-1] == j[0]:\n",
        "          if j[1] != route[0]:\n",
        "            route.append(j[1])\n",
        "            del (r[i])\n",
        "          else:\n",
        "            del (r[i])\n",
        "    subtours.append(route)\n",
        "\n",
        "  return subtours"
      ],
      "metadata": {
        "id": "y09EfDAa7l5c"
      },
      "execution_count": 11,
      "outputs": []
    },
    {
      "cell_type": "markdown",
      "source": [
        "# prob solve"
      ],
      "metadata": {
        "id": "QotB8uTc2uMr"
      }
    },
    {
      "cell_type": "code",
      "source": [
        "# mTSP subtour elimination\n",
        "iter = 0\n",
        "subtours=[]\n",
        "while len(subtours)!=m:\n",
        "  prob = cp.Problem(objective, constraints)\n",
        "  # prob.solve(verbose=\"True\", eps=1e-6)\n",
        "  prob.solve()\n",
        "\n",
        "  # find subtours\n",
        "  routes=[(i,j) for i in range(n) for j in range(n) if x[i,j].value==1]\n",
        "  subtours = get_subtours(routes,m)\n",
        "\n",
        "  print(f'iteration:{iter}')\n",
        "  print(f'number of constraints:{len(constraints)}')\n",
        "  print(f'number of subtours:{len(subtours)}')\n",
        "  print(f'cost:{prob.value}')\n",
        "  print(f'subtour:{subtours} \\n')\n",
        "\n",
        "  S=[]\n",
        "  for subtour in subtours:\n",
        "    V=[0 for _ in range(n)]\n",
        "    for i in subtour:\n",
        "      V[i] = 1\n",
        "    V=np.array(V)\n",
        "    S.append(V)\n",
        "\n",
        "  # add constraints\n",
        "  for V in S:\n",
        "    if m==1:\n",
        "      constraints += [V@(x@V.T) <= sum(V)-1]\n",
        "    elif V[0] != 1:\n",
        "      constraints += [V@(x@V.T) <= sum(V)-1]\n",
        "  iter+=1  "
      ],
      "metadata": {
        "colab": {
          "base_uri": "https://localhost:8080/"
        },
        "id": "gE80RYg57oWl",
        "outputId": "de3f40f0-c8e2-4180-9408-fbccb0186b93"
      },
      "execution_count": 12,
      "outputs": [
        {
          "output_type": "stream",
          "name": "stdout",
          "text": [
            "iteration:0\n",
            "number of constraints:41\n",
            "number of subtours:1\n",
            "cost:12.0\n",
            "subtour:[[0, 2, 1, 3]] \n",
            "\n"
          ]
        }
      ]
    },
    {
      "cell_type": "markdown",
      "source": [
        "# 확인"
      ],
      "metadata": {
        "id": "MhdPkp8f2zTR"
      }
    },
    {
      "cell_type": "code",
      "source": [
        "a = a.value\n",
        "p = p.value\n",
        "x = x.value\n",
        "TorF = []\n",
        "for i in range(n):\n",
        "  for j in range(n):\n",
        "    if i != j:\n",
        "      TorF.append(a[j] <= p[i]+d[i,j]+(1-x[i,j])*M)\n",
        "      TorF.append(a[j] >= p[i]+d[i,j]-(1-x[i,j])*M)\n",
        "\n",
        "TorF"
      ],
      "metadata": {
        "colab": {
          "base_uri": "https://localhost:8080/"
        },
        "id": "jO3CTOjqT9AX",
        "outputId": "85f19302-5176-46c2-e3de-0b2210d68c0e"
      },
      "execution_count": 13,
      "outputs": [
        {
          "output_type": "execute_result",
          "data": {
            "text/plain": [
              "[array([ True]),\n",
              " array([ True]),\n",
              " array([ True]),\n",
              " array([ True]),\n",
              " array([ True]),\n",
              " array([ True]),\n",
              " array([ True]),\n",
              " array([ True]),\n",
              " array([ True]),\n",
              " array([ True]),\n",
              " array([ True]),\n",
              " array([ True]),\n",
              " array([ True]),\n",
              " array([ True]),\n",
              " array([ True]),\n",
              " array([ True]),\n",
              " array([ True]),\n",
              " array([ True]),\n",
              " array([ True]),\n",
              " array([ True]),\n",
              " array([ True]),\n",
              " array([ True]),\n",
              " array([ True]),\n",
              " array([ True])]"
            ]
          },
          "metadata": {},
          "execution_count": 13
        }
      ]
    },
    {
      "cell_type": "code",
      "source": [
        "a,p"
      ],
      "metadata": {
        "colab": {
          "base_uri": "https://localhost:8080/"
        },
        "id": "svpjPGz0UPR6",
        "outputId": "6a3f4099-9f8a-4cd8-fbb0-e8b64c42c5af"
      },
      "execution_count": 14,
      "outputs": [
        {
          "output_type": "execute_result",
          "data": {
            "text/plain": [
              "(array([[14.],\n",
              "        [ 6.],\n",
              "        [ 3.],\n",
              "        [ 8.]]), array([[-0.],\n",
              "        [ 6.],\n",
              "        [ 3.],\n",
              "        [10.]]))"
            ]
          },
          "metadata": {},
          "execution_count": 14
        }
      ]
    },
    {
      "cell_type": "code",
      "source": [
        "x"
      ],
      "metadata": {
        "colab": {
          "base_uri": "https://localhost:8080/"
        },
        "id": "YqZbqe-H6yIK",
        "outputId": "4b14ec4f-9b1b-4e99-a8b3-ba38fc05aa38"
      },
      "execution_count": 15,
      "outputs": [
        {
          "output_type": "execute_result",
          "data": {
            "text/plain": [
              "array([[0., 0., 1., 0.],\n",
              "       [0., 0., 0., 1.],\n",
              "       [0., 1., 0., 0.],\n",
              "       [1., 0., 0., 0.]])"
            ]
          },
          "metadata": {},
          "execution_count": 15
        }
      ]
    }
  ]
}